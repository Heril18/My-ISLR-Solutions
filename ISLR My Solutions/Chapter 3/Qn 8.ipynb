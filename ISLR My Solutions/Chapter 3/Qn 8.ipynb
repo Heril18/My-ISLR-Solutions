{
 "cells": [
  {
   "cell_type": "code",
   "execution_count": 1,
   "metadata": {},
   "outputs": [],
   "source": [
    "import numpy as np\n",
    "import pandas as pd\n",
    "import matplotlib.pyplot as plt\n",
    "import statsmodels.api as sm\n",
    "from statsmodels.sandbox.regression.predstd import wls_prediction_std\n",
    "import statsmodels.api as sm\n",
    "import statsmodels.formula.api as smf\n"
   ]
  },
  {
   "cell_type": "code",
   "execution_count": 2,
   "metadata": {},
   "outputs": [],
   "source": [
    "df=pd.read_csv('auto.csv')"
   ]
  },
  {
   "cell_type": "code",
   "execution_count": 3,
   "metadata": {},
   "outputs": [
    {
     "data": {
      "text/html": [
       "<div>\n",
       "<style scoped>\n",
       "    .dataframe tbody tr th:only-of-type {\n",
       "        vertical-align: middle;\n",
       "    }\n",
       "\n",
       "    .dataframe tbody tr th {\n",
       "        vertical-align: top;\n",
       "    }\n",
       "\n",
       "    .dataframe thead th {\n",
       "        text-align: right;\n",
       "    }\n",
       "</style>\n",
       "<table border=\"1\" class=\"dataframe\">\n",
       "  <thead>\n",
       "    <tr style=\"text-align: right;\">\n",
       "      <th></th>\n",
       "      <th>cylinders</th>\n",
       "      <th>displacement</th>\n",
       "      <th>horsepower</th>\n",
       "      <th>weight</th>\n",
       "      <th>acceleration</th>\n",
       "      <th>model_year</th>\n",
       "      <th>origin</th>\n",
       "      <th>mpg</th>\n",
       "    </tr>\n",
       "  </thead>\n",
       "  <tbody>\n",
       "    <tr>\n",
       "      <th>0</th>\n",
       "      <td>8</td>\n",
       "      <td>307.0</td>\n",
       "      <td>130.0</td>\n",
       "      <td>3504.0</td>\n",
       "      <td>12.0</td>\n",
       "      <td>70</td>\n",
       "      <td>1</td>\n",
       "      <td>18.0</td>\n",
       "    </tr>\n",
       "    <tr>\n",
       "      <th>1</th>\n",
       "      <td>8</td>\n",
       "      <td>350.0</td>\n",
       "      <td>165.0</td>\n",
       "      <td>3693.0</td>\n",
       "      <td>11.5</td>\n",
       "      <td>70</td>\n",
       "      <td>1</td>\n",
       "      <td>15.0</td>\n",
       "    </tr>\n",
       "    <tr>\n",
       "      <th>2</th>\n",
       "      <td>8</td>\n",
       "      <td>318.0</td>\n",
       "      <td>150.0</td>\n",
       "      <td>3436.0</td>\n",
       "      <td>11.0</td>\n",
       "      <td>70</td>\n",
       "      <td>1</td>\n",
       "      <td>18.0</td>\n",
       "    </tr>\n",
       "    <tr>\n",
       "      <th>3</th>\n",
       "      <td>8</td>\n",
       "      <td>304.0</td>\n",
       "      <td>150.0</td>\n",
       "      <td>3433.0</td>\n",
       "      <td>12.0</td>\n",
       "      <td>70</td>\n",
       "      <td>1</td>\n",
       "      <td>16.0</td>\n",
       "    </tr>\n",
       "    <tr>\n",
       "      <th>4</th>\n",
       "      <td>8</td>\n",
       "      <td>302.0</td>\n",
       "      <td>140.0</td>\n",
       "      <td>3449.0</td>\n",
       "      <td>10.5</td>\n",
       "      <td>70</td>\n",
       "      <td>1</td>\n",
       "      <td>17.0</td>\n",
       "    </tr>\n",
       "  </tbody>\n",
       "</table>\n",
       "</div>"
      ],
      "text/plain": [
       "   cylinders  displacement  horsepower  weight  acceleration  model_year  \\\n",
       "0          8         307.0       130.0  3504.0          12.0          70   \n",
       "1          8         350.0       165.0  3693.0          11.5          70   \n",
       "2          8         318.0       150.0  3436.0          11.0          70   \n",
       "3          8         304.0       150.0  3433.0          12.0          70   \n",
       "4          8         302.0       140.0  3449.0          10.5          70   \n",
       "\n",
       "   origin   mpg  \n",
       "0       1  18.0  \n",
       "1       1  15.0  \n",
       "2       1  18.0  \n",
       "3       1  16.0  \n",
       "4       1  17.0  "
      ]
     },
     "execution_count": 3,
     "metadata": {},
     "output_type": "execute_result"
    }
   ],
   "source": [
    "df.head()"
   ]
  },
  {
   "cell_type": "code",
   "execution_count": 48,
   "metadata": {},
   "outputs": [],
   "source": [
    "x=pd.DataFrame(df['horsepower'])\n",
    "y=pd.DataFrame(df['mpg'])"
   ]
  },
  {
   "cell_type": "code",
   "execution_count": 61,
   "metadata": {},
   "outputs": [
    {
     "data": {
      "text/plain": [
       "(392, 1)"
      ]
     },
     "execution_count": 61,
     "metadata": {},
     "output_type": "execute_result"
    }
   ],
   "source": [
    "x.shape"
   ]
  },
  {
   "cell_type": "code",
   "execution_count": 49,
   "metadata": {},
   "outputs": [],
   "source": [
    "from sklearn.linear_model import LinearRegression"
   ]
  },
  {
   "cell_type": "code",
   "execution_count": 50,
   "metadata": {},
   "outputs": [],
   "source": [
    "model=LinearRegression()"
   ]
  },
  {
   "cell_type": "code",
   "execution_count": 51,
   "metadata": {},
   "outputs": [
    {
     "data": {
      "text/plain": [
       "LinearRegression()"
      ]
     },
     "execution_count": 51,
     "metadata": {},
     "output_type": "execute_result"
    }
   ],
   "source": [
    "model.fit(x,y)"
   ]
  },
  {
   "cell_type": "code",
   "execution_count": 52,
   "metadata": {},
   "outputs": [
    {
     "data": {
      "text/plain": [
       "array([39.93586102])"
      ]
     },
     "execution_count": 52,
     "metadata": {},
     "output_type": "execute_result"
    }
   ],
   "source": [
    "from sklearn.metrics import mean_squared_error\n",
    "y_pred=model.predict(x)\n",
    "model.intercept_"
   ]
  },
  {
   "cell_type": "code",
   "execution_count": 40,
   "metadata": {},
   "outputs": [],
   "source": [
    "model_ols=smf.ols('mpg~horsepower',df).fit()"
   ]
  },
  {
   "cell_type": "code",
   "execution_count": 41,
   "metadata": {},
   "outputs": [
    {
     "name": "stdout",
     "output_type": "stream",
     "text": [
      "                            OLS Regression Results                            \n",
      "==============================================================================\n",
      "Dep. Variable:                    mpg   R-squared:                       0.606\n",
      "Model:                            OLS   Adj. R-squared:                  0.605\n",
      "Method:                 Least Squares   F-statistic:                     599.7\n",
      "Date:                Sun, 12 Sep 2021   Prob (F-statistic):           7.03e-81\n",
      "Time:                        15:09:45   Log-Likelihood:                -1178.7\n",
      "No. Observations:                 392   AIC:                             2361.\n",
      "Df Residuals:                     390   BIC:                             2369.\n",
      "Df Model:                           1                                         \n",
      "Covariance Type:            nonrobust                                         \n",
      "==============================================================================\n",
      "                 coef    std err          t      P>|t|      [0.025      0.975]\n",
      "------------------------------------------------------------------------------\n",
      "Intercept     39.9359      0.717     55.660      0.000      38.525      41.347\n",
      "horsepower    -0.1578      0.006    -24.489      0.000      -0.171      -0.145\n",
      "==============================================================================\n",
      "Omnibus:                       16.432   Durbin-Watson:                   0.920\n",
      "Prob(Omnibus):                  0.000   Jarque-Bera (JB):               17.305\n",
      "Skew:                           0.492   Prob(JB):                     0.000175\n",
      "Kurtosis:                       3.299   Cond. No.                         322.\n",
      "==============================================================================\n",
      "\n",
      "Notes:\n",
      "[1] Standard Errors assume that the covariance matrix of the errors is correctly specified.\n"
     ]
    }
   ],
   "source": [
    "print(model_ols.summary())"
   ]
  },
  {
   "cell_type": "code",
   "execution_count": 56,
   "metadata": {},
   "outputs": [
    {
     "data": {
      "text/plain": [
       "array([[24.46707715]])"
      ]
     },
     "execution_count": 56,
     "metadata": {},
     "output_type": "execute_result"
    }
   ],
   "source": [
    "model.predict([[98]])"
   ]
  },
  {
   "cell_type": "code",
   "execution_count": 57,
   "metadata": {},
   "outputs": [
    {
     "data": {
      "text/plain": [
       "0.6059482578894348"
      ]
     },
     "execution_count": 57,
     "metadata": {},
     "output_type": "execute_result"
    }
   ],
   "source": [
    "model.score(x,y)"
   ]
  },
  {
   "cell_type": "code",
   "execution_count": 65,
   "metadata": {},
   "outputs": [],
   "source": [
    "MSE = np.sum(np.square(y_pred - y)) / y.size"
   ]
  },
  {
   "cell_type": "code",
   "execution_count": 66,
   "metadata": {},
   "outputs": [
    {
     "data": {
      "text/plain": [
       "mpg    23.943663\n",
       "dtype: float64"
      ]
     },
     "execution_count": 66,
     "metadata": {},
     "output_type": "execute_result"
    }
   ],
   "source": [
    "MSE"
   ]
  },
  {
   "cell_type": "code",
   "execution_count": 70,
   "metadata": {},
   "outputs": [
    {
     "data": {
      "text/plain": [
       "[<matplotlib.lines.Line2D at 0x2503e6ba9a0>]"
      ]
     },
     "execution_count": 70,
     "metadata": {},
     "output_type": "execute_result"
    },
    {
     "data": {
      "image/png": "[encoded data removed]",
      "text/plain": [
       "<Figure size 432x288 with 1 Axes>"
      ]
     },
     "metadata": {
      "needs_background": "light"
     },
     "output_type": "display_data"
    }
   ],
   "source": [
    "plt.scatter(x,y,marker=\"+\")\n",
    "plt.plot(x,y_pred,color='yellow')"
   ]
  },
  {
   "cell_type": "code",
   "execution_count": 58,
   "metadata": {},
   "outputs": [
    {
     "data": {
      "text/plain": [
       "array([[19.41604569],\n",
       "       [13.89148002],\n",
       "       [16.25915102],\n",
       "       [16.25915102],\n",
       "       [17.83759835],\n",
       "       [ 8.68260382],\n",
       "       [ 5.21001968],\n",
       "       [ 5.99924335],\n",
       "       [ 4.42079602],\n",
       "       [ 9.94536168],\n",
       "       [13.10225635],\n",
       "       [14.68070368],\n",
       "       [16.25915102],\n",
       "       [ 4.42079602],\n",
       "       [24.94061135],\n",
       "       [24.94061135],\n",
       "       [24.62492189],\n",
       "       [26.51905869],\n",
       "       [26.04552449],\n",
       "       [32.67500329],\n",
       "       [26.20336922],\n",
       "       [25.72983502],\n",
       "       [24.94061135],\n",
       "       [22.09940615],\n",
       "       [25.72983502],\n",
       "       [ 5.99924335],\n",
       "       [ 8.36691435],\n",
       "       [ 6.78846702],\n",
       "       [ 9.47182748],\n",
       "       [26.04552449],\n",
       "       [25.72983502],\n",
       "       [24.94061135],\n",
       "       [24.15138769],\n",
       "       [23.36216402],\n",
       "       [24.15138769],\n",
       "       [26.04552449],\n",
       "       [24.15138769],\n",
       "       [13.89148002],\n",
       "       [12.31303268],\n",
       "       [15.78561682],\n",
       "       [16.25915102],\n",
       "       [11.52380902],\n",
       "       [13.10225635],\n",
       "       [12.31303268],\n",
       "       [22.57294035],\n",
       "       [28.57104022],\n",
       "       [24.15138769],\n",
       "       [26.04552449],\n",
       "       [26.36121395],\n",
       "       [25.72983502],\n",
       "       [28.88672969],\n",
       "       [27.93966129],\n",
       "       [29.67595335],\n",
       "       [29.04457442],\n",
       "       [30.46517702],\n",
       "       [28.88672969],\n",
       "       [24.94061135],\n",
       "       [27.30828235],\n",
       "       [31.41224542],\n",
       "       [25.72983502],\n",
       "       [26.36121395],\n",
       "       [13.89148002],\n",
       "       [12.31303268],\n",
       "       [16.25915102],\n",
       "       [15.78561682],\n",
       "       [16.25915102],\n",
       "       [ 7.10415648],\n",
       "       [15.46992735],\n",
       "       [14.68070368],\n",
       "       [ 9.94536168],\n",
       "       [24.62492189],\n",
       "       [16.25915102],\n",
       "       [19.41604569],\n",
       "       [17.83759835],\n",
       "       [16.25915102],\n",
       "       [22.25725089],\n",
       "       [27.93966129],\n",
       "       [26.20336922],\n",
       "       [29.04457442],\n",
       "       [26.36121395],\n",
       "       [25.41414555],\n",
       "       [24.62492189],\n",
       "       [27.30828235],\n",
       "       [26.04552449],\n",
       "       [12.31303268],\n",
       "       [16.25915102],\n",
       "       [17.04837468],\n",
       "       [18.31113255],\n",
       "       [16.25915102],\n",
       "       [ 8.68260382],\n",
       "       [16.25915102],\n",
       "       [14.99639315],\n",
       "       [16.25915102],\n",
       "       [ 5.99924335],\n",
       "       [ 4.42079602],\n",
       "       [12.31303268],\n",
       "       [23.36216402],\n",
       "       [24.15138769],\n",
       "       [24.15138769],\n",
       "       [26.04552449],\n",
       "       [24.94061135],\n",
       "       [32.67500329],\n",
       "       [16.25915102],\n",
       "       [13.57579055],\n",
       "       [13.10225635],\n",
       "       [11.52380902],\n",
       "       [24.15138769],\n",
       "       [26.04552449],\n",
       "       [28.57104022],\n",
       "       [25.09845609],\n",
       "       [25.72983502],\n",
       "       [26.51905869],\n",
       "       [23.04647455],\n",
       "       [25.72983502],\n",
       "       [17.04837468],\n",
       "       [ 3.63157235],\n",
       "       [32.20146909],\n",
       "       [28.09750602],\n",
       "       [25.57199029],\n",
       "       [22.25725089],\n",
       "       [16.25915102],\n",
       "       [22.57294035],\n",
       "       [20.67880355],\n",
       "       [11.52380902],\n",
       "       [24.94061135],\n",
       "       [24.15138769],\n",
       "       [24.15138769],\n",
       "       [29.36026389],\n",
       "       [27.30828235],\n",
       "       [29.67595335],\n",
       "       [28.09750602],\n",
       "       [24.15138769],\n",
       "       [22.57294035],\n",
       "       [23.36216402],\n",
       "       [17.83759835],\n",
       "       [16.25915102],\n",
       "       [16.25915102],\n",
       "       [17.83759835],\n",
       "       [16.25915102],\n",
       "       [26.83474815],\n",
       "       [29.36026389],\n",
       "       [27.62397182],\n",
       "       [31.72793489],\n",
       "       [30.30733229],\n",
       "       [28.09750602],\n",
       "       [28.09750602],\n",
       "       [28.09750602],\n",
       "       [24.62492189],\n",
       "       [25.25630082],\n",
       "       [29.36026389],\n",
       "       [24.94061135],\n",
       "       [23.36216402],\n",
       "       [28.57104022],\n",
       "       [28.57104022],\n",
       "       [13.10225635],\n",
       "       [17.04837468],\n",
       "       [16.25915102],\n",
       "       [16.57484048],\n",
       "       [22.57294035],\n",
       "       [23.36216402],\n",
       "       [22.57294035],\n",
       "       [24.94061135],\n",
       "       [22.57294035],\n",
       "       [22.57294035],\n",
       "       [19.57389042],\n",
       "       [28.09750602],\n",
       "       [26.83474815],\n",
       "       [24.15138769],\n",
       "       [27.62397182],\n",
       "       [24.78276662],\n",
       "       [28.72888495],\n",
       "       [24.62492189],\n",
       "       [24.62492189],\n",
       "       [28.88672969],\n",
       "       [25.72983502],\n",
       "       [24.94061135],\n",
       "       [26.04552449],\n",
       "       [24.46707715],\n",
       "       [21.78371669],\n",
       "       [31.57009015],\n",
       "       [26.36121395],\n",
       "       [27.15043762],\n",
       "       [25.41414555],\n",
       "       [27.46612709],\n",
       "       [26.83474815],\n",
       "       [17.83759835],\n",
       "       [16.25915102],\n",
       "       [20.99449302],\n",
       "       [15.94346155],\n",
       "       [24.15138769],\n",
       "       [23.36216402],\n",
       "       [27.15043762],\n",
       "       [25.72983502],\n",
       "       [31.72793489],\n",
       "       [30.46517702],\n",
       "       [28.88672969],\n",
       "       [31.57009015],\n",
       "       [24.15138769],\n",
       "       [27.62397182],\n",
       "       [22.57294035],\n",
       "       [24.94061135],\n",
       "       [28.72888495],\n",
       "       [28.88672969],\n",
       "       [28.09750602],\n",
       "       [28.57104022],\n",
       "       [23.83569822],\n",
       "       [16.25915102],\n",
       "       [26.04552449],\n",
       "       [22.88862982],\n",
       "       [20.99449302],\n",
       "       [11.52380902],\n",
       "       [17.04837468],\n",
       "       [19.41604569],\n",
       "       [16.25915102],\n",
       "       [29.20241915],\n",
       "       [27.30828235],\n",
       "       [30.78086649],\n",
       "       [24.78276662],\n",
       "       [28.88672969],\n",
       "       [17.04837468],\n",
       "       [22.57294035],\n",
       "       [17.04837468],\n",
       "       [19.41604569],\n",
       "       [22.57294035],\n",
       "       [23.36216402],\n",
       "       [24.15138769],\n",
       "       [24.46707715],\n",
       "       [11.52380902],\n",
       "       [13.10225635],\n",
       "       [ 9.94536168],\n",
       "       [16.41699575],\n",
       "       [27.62397182],\n",
       "       [26.04552449],\n",
       "       [28.09750602],\n",
       "       [25.88767975],\n",
       "       [29.99164282],\n",
       "       [26.83474815],\n",
       "       [29.36026389],\n",
       "       [27.62397182],\n",
       "       [24.62492189],\n",
       "       [22.57294035],\n",
       "       [22.57294035],\n",
       "       [32.35931382],\n",
       "       [29.51810862],\n",
       "       [31.72793489],\n",
       "       [28.88672969],\n",
       "       [30.46517702],\n",
       "       [22.57294035],\n",
       "       [17.83759835],\n",
       "       [17.99544309],\n",
       "       [23.36216402],\n",
       "       [24.94061135],\n",
       "       [26.51905869],\n",
       "       [26.04552449],\n",
       "       [24.15138769],\n",
       "       [25.72983502],\n",
       "       [23.36216402],\n",
       "       [26.51905869],\n",
       "       [22.57294035],\n",
       "       [20.99449302],\n",
       "       [17.04837468],\n",
       "       [13.89148002],\n",
       "       [17.99544309],\n",
       "       [17.83759835],\n",
       "       [29.20241915],\n",
       "       [24.94061135],\n",
       "       [24.62492189],\n",
       "       [28.09750602],\n",
       "       [24.94061135],\n",
       "       [23.36216402],\n",
       "       [26.51905869],\n",
       "       [24.62492189],\n",
       "       [23.67785349],\n",
       "       [20.20526935],\n",
       "       [21.78371669],\n",
       "       [18.94251149],\n",
       "       [28.72888495],\n",
       "       [29.20241915],\n",
       "       [21.78371669],\n",
       "       [26.51905869],\n",
       "       [26.04552449],\n",
       "       [25.72983502],\n",
       "       [22.57294035],\n",
       "       [19.41604569],\n",
       "       [19.57389042],\n",
       "       [18.15328782],\n",
       "       [18.62682202],\n",
       "       [15.46992735],\n",
       "       [17.52190888],\n",
       "       [20.20526935],\n",
       "       [16.25915102],\n",
       "       [28.72888495],\n",
       "       [29.67595335],\n",
       "       [27.30828235],\n",
       "       [27.30828235],\n",
       "       [27.78181655],\n",
       "       [20.20526935],\n",
       "       [28.72888495],\n",
       "       [25.72983502],\n",
       "       [28.88672969],\n",
       "       [28.88672969],\n",
       "       [29.67595335],\n",
       "       [29.04457442],\n",
       "       [25.72983502],\n",
       "       [21.78371669],\n",
       "       [21.78371669],\n",
       "       [25.72983502],\n",
       "       [27.93966129],\n",
       "       [30.46517702],\n",
       "       [28.88672969],\n",
       "       [29.67595335],\n",
       "       [25.72983502],\n",
       "       [26.04552449],\n",
       "       [25.72983502],\n",
       "       [25.72983502],\n",
       "       [27.62397182],\n",
       "       [25.72983502],\n",
       "       [28.09750602],\n",
       "       [25.41414555],\n",
       "       [28.09750602],\n",
       "       [29.67595335],\n",
       "       [23.36216402],\n",
       "       [29.67595335],\n",
       "       [32.35931382],\n",
       "       [32.35931382],\n",
       "       [29.36026389],\n",
       "       [29.36026389],\n",
       "       [29.36026389],\n",
       "       [29.36026389],\n",
       "       [30.14948755],\n",
       "       [19.10035622],\n",
       "       [24.15138769],\n",
       "       [26.04552449],\n",
       "       [28.57104022],\n",
       "       [26.67690342],\n",
       "       [26.67690342],\n",
       "       [25.41414555],\n",
       "       [22.57294035],\n",
       "       [26.67690342],\n",
       "       [30.78086649],\n",
       "       [29.83379809],\n",
       "       [30.46517702],\n",
       "       [29.36026389],\n",
       "       [29.67595335],\n",
       "       [30.14948755],\n",
       "       [29.20241915],\n",
       "       [29.99164282],\n",
       "       [29.67595335],\n",
       "       [29.67595335],\n",
       "       [28.25535075],\n",
       "       [28.09750602],\n",
       "       [28.09750602],\n",
       "       [24.15138769],\n",
       "       [28.25535075],\n",
       "       [27.30828235],\n",
       "       [27.93966129],\n",
       "       [21.62587195],\n",
       "       [20.99449302],\n",
       "       [22.57294035],\n",
       "       [23.36216402],\n",
       "       [26.04552449],\n",
       "       [26.51905869],\n",
       "       [26.04552449],\n",
       "       [26.04552449],\n",
       "       [26.04552449],\n",
       "       [26.51905869],\n",
       "       [26.67690342],\n",
       "       [25.72983502],\n",
       "       [25.41414555],\n",
       "       [28.25535075],\n",
       "       [29.20241915],\n",
       "       [29.20241915],\n",
       "       [29.99164282],\n",
       "       [28.88672969],\n",
       "       [26.04552449],\n",
       "       [28.09750602],\n",
       "       [28.88672969],\n",
       "       [29.36026389],\n",
       "       [29.36026389],\n",
       "       [29.36026389],\n",
       "       [22.57294035],\n",
       "       [26.51905869],\n",
       "       [25.41414555],\n",
       "       [22.25725089],\n",
       "       [24.78276662],\n",
       "       [26.67690342],\n",
       "       [25.72983502],\n",
       "       [26.36121395],\n",
       "       [31.72793489],\n",
       "       [26.67690342],\n",
       "       [27.46612709],\n",
       "       [26.99259289]])"
      ]
     },
     "execution_count": 58,
     "metadata": {},
     "output_type": "execute_result"
    }
   ],
   "source": [
    "y_pred"
   ]
  }
 ],
 "metadata": {
  "kernelspec": {
   "display_name": "Python 3",
   "language": "python",
   "name": "python3"
  },
  "language_info": {
   "codemirror_mode": {
    "name": "ipython",
    "version": 3
   },
   "file_extension": ".py",
   "mimetype": "text/x-python",
   "name": "python",
   "nbconvert_exporter": "python",
   "pygments_lexer": "ipython3",
   "version": "3.8.5"
  }
 },
 "nbformat": 4,
 "nbformat_minor": 4
}
